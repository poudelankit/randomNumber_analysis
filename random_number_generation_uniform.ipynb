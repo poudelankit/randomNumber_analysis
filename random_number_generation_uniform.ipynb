{
 "cells": [
  {
   "cell_type": "code",
   "execution_count": 10,
   "metadata": {},
   "outputs": [],
   "source": [
    "def create_dat_file(file_name,seed,number_of_data):\n",
    "    count =0\n",
    "    # list_of_ran = []\n",
    "    seed =seed\n",
    "    with open (file_name,'w') as f:\n",
    "        while (count < number_of_data):\n",
    "            ran1 = (16807*seed)%(2**31-1)\n",
    "            seed = ran1\n",
    "            x = ran1/2**31\n",
    "            ran2 = (16807*seed)%(2**31-1)\n",
    "            y = ran2/2**31\n",
    "            count +=1    \n",
    "            f.write(f'{str(x)},{str(y)}\\n')\n",
    "    f.close()"
   ]
  },
  {
   "cell_type": "code",
   "execution_count": null,
   "metadata": {},
   "outputs": [],
   "source": []
  },
  {
   "cell_type": "code",
   "execution_count": 35,
   "metadata": {},
   "outputs": [],
   "source": [
    "create_dat_file(seed=45325436,file_name='random4.dat',number_of_data=50000)"
   ]
  },
  {
   "cell_type": "code",
   "execution_count": 8,
   "metadata": {},
   "outputs": [
    {
     "name": "stdout",
     "output_type": "stream",
     "text": [
      "0.5655910465866327,0.888724407646805\n",
      "\n",
      "<class 'str'>\n"
     ]
    }
   ],
   "source": [
    "with open('random1.dat','r') as f:\n",
    "    for line in f:\n",
    "        print(line)\n",
    "        print(type(line))\n",
    "        line.split(',')\n",
    "        break"
   ]
  },
  {
   "cell_type": "code",
   "execution_count": null,
   "metadata": {},
   "outputs": [],
   "source": [
    "'''Draw bar diagram from given formula \n",
    "y1 = sqr_rt((-2)*ln(x1))\n",
    "y2 = sqr_rt((-2)*ln(x2))\n",
    "\n",
    "\n",
    "find mean\n",
    "find sd\n",
    "'''"
   ]
  }
 ],
 "metadata": {
  "kernelspec": {
   "display_name": "env",
   "language": "python",
   "name": "python3"
  },
  "language_info": {
   "codemirror_mode": {
    "name": "ipython",
    "version": 3
   },
   "file_extension": ".py",
   "mimetype": "text/x-python",
   "name": "python",
   "nbconvert_exporter": "python",
   "pygments_lexer": "ipython3",
   "version": "3.10.6"
  }
 },
 "nbformat": 4,
 "nbformat_minor": 2
}
